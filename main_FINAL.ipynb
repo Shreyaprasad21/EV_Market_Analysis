{
 "cells": [
  {
   "cell_type": "code",
   "execution_count": 1,
   "metadata": {},
   "outputs": [],
   "source": [
    "import os\n",
    "import pickle\n",
    "import textblob\n",
    "import warnings\n",
    "import numpy as np\n",
    "import pandas as pd\n",
    "from glob import glob\n",
    "import seaborn as sns\n",
    "from rich import print\n",
    "import tensorflow as tf\n",
    "from sklearn.svm import SVR\n",
    "import matplotlib.pyplot as plt\n",
    "from sklearn.decomposition import PCA\n",
    "from tensorflow.keras import Sequential\n",
    "from sklearn.preprocessing import LabelEncoder\n",
    "from sklearn.tree import DecisionTreeRegressor\n",
    "from sklearn.preprocessing import StandardScaler\n",
    "from sklearn.linear_model import LinearRegression\n",
    "from sklearn.ensemble import RandomForestRegressor\n",
    "from tensorflow.keras.layers import Dense, Dropout\n",
    "from sklearn.model_selection import train_test_split"
   ]
  },
  {
   "cell_type": "code",
   "execution_count": 2,
   "metadata": {},
   "outputs": [],
   "source": [
    "warnings.simplefilter(\"ignore\")\n",
    "sns.set()"
   ]
  },
  {
   "cell_type": "markdown",
   "metadata": {},
   "source": [
    "# 2-wheeler-EV-bikewale.csv"
   ]
  },
  {
   "cell_type": "code",
   "execution_count": 3,
   "metadata": {
    "scrolled": true
   },
   "outputs": [
    {
     "data": {
      "text/html": [
       "<div>\n",
       "<style scoped>\n",
       "    .dataframe tbody tr th:only-of-type {\n",
       "        vertical-align: middle;\n",
       "    }\n",
       "\n",
       "    .dataframe tbody tr th {\n",
       "        vertical-align: top;\n",
       "    }\n",
       "\n",
       "    .dataframe thead th {\n",
       "        text-align: right;\n",
       "    }\n",
       "</style>\n",
       "<table border=\"1\" class=\"dataframe\">\n",
       "  <thead>\n",
       "    <tr style=\"text-align: right;\">\n",
       "      <th></th>\n",
       "      <th>review</th>\n",
       "      <th>Used it for</th>\n",
       "      <th>Owned for</th>\n",
       "      <th>Ridden for</th>\n",
       "      <th>rating</th>\n",
       "      <th>Visual Appeal</th>\n",
       "      <th>Reliability</th>\n",
       "      <th>Performance</th>\n",
       "      <th>Service Experience</th>\n",
       "      <th>Extra Features</th>\n",
       "      <th>Comfort</th>\n",
       "      <th>Maintenance cost</th>\n",
       "      <th>Value for Money</th>\n",
       "      <th>Model Name</th>\n",
       "    </tr>\n",
       "  </thead>\n",
       "  <tbody>\n",
       "    <tr>\n",
       "      <th>0</th>\n",
       "      <td>We all checked the bike's capacity to be 150 k...</td>\n",
       "      <td>Daily Commute</td>\n",
       "      <td>Never owned</td>\n",
       "      <td>NaN</td>\n",
       "      <td>1</td>\n",
       "      <td>3.0</td>\n",
       "      <td>4.0</td>\n",
       "      <td>NaN</td>\n",
       "      <td>NaN</td>\n",
       "      <td>NaN</td>\n",
       "      <td>4.0</td>\n",
       "      <td>NaN</td>\n",
       "      <td>1.0</td>\n",
       "      <td>TVS iQube</td>\n",
       "    </tr>\n",
       "    <tr>\n",
       "      <th>1</th>\n",
       "      <td>Performance is very poor on this bike. The cha...</td>\n",
       "      <td>Everything</td>\n",
       "      <td>&gt; 1 yr</td>\n",
       "      <td>&lt; 5000 kms</td>\n",
       "      <td>1</td>\n",
       "      <td>3.0</td>\n",
       "      <td>1.0</td>\n",
       "      <td>NaN</td>\n",
       "      <td>1.0</td>\n",
       "      <td>NaN</td>\n",
       "      <td>3.0</td>\n",
       "      <td>NaN</td>\n",
       "      <td>3.0</td>\n",
       "      <td>TVS iQube</td>\n",
       "    </tr>\n",
       "    <tr>\n",
       "      <th>2</th>\n",
       "      <td>I purchased this in April 2022 and the sales s...</td>\n",
       "      <td>Daily Commute</td>\n",
       "      <td>&lt; 3 months</td>\n",
       "      <td>&lt; 5000 kms</td>\n",
       "      <td>3</td>\n",
       "      <td>4.0</td>\n",
       "      <td>4.0</td>\n",
       "      <td>NaN</td>\n",
       "      <td>2.0</td>\n",
       "      <td>NaN</td>\n",
       "      <td>5.0</td>\n",
       "      <td>NaN</td>\n",
       "      <td>2.0</td>\n",
       "      <td>TVS iQube</td>\n",
       "    </tr>\n",
       "    <tr>\n",
       "      <th>3</th>\n",
       "      <td>If any issues come in scooty parts not availab...</td>\n",
       "      <td>Daily Commute</td>\n",
       "      <td>6 months-1 yr</td>\n",
       "      <td>5000-10000 kms</td>\n",
       "      <td>1</td>\n",
       "      <td>1.0</td>\n",
       "      <td>1.0</td>\n",
       "      <td>NaN</td>\n",
       "      <td>1.0</td>\n",
       "      <td>NaN</td>\n",
       "      <td>1.0</td>\n",
       "      <td>NaN</td>\n",
       "      <td>1.0</td>\n",
       "      <td>TVS iQube</td>\n",
       "    </tr>\n",
       "    <tr>\n",
       "      <th>4</th>\n",
       "      <td>Don't buy this vehicle unless you have a near ...</td>\n",
       "      <td>Daily Commute</td>\n",
       "      <td>6 months-1 yr</td>\n",
       "      <td>&lt; 5000 kms</td>\n",
       "      <td>1</td>\n",
       "      <td>3.0</td>\n",
       "      <td>4.0</td>\n",
       "      <td>NaN</td>\n",
       "      <td>1.0</td>\n",
       "      <td>NaN</td>\n",
       "      <td>3.0</td>\n",
       "      <td>NaN</td>\n",
       "      <td>2.0</td>\n",
       "      <td>TVS iQube</td>\n",
       "    </tr>\n",
       "  </tbody>\n",
       "</table>\n",
       "</div>"
      ],
      "text/plain": [
       "                                              review    Used it for  \\\n",
       "0  We all checked the bike's capacity to be 150 k...  Daily Commute   \n",
       "1  Performance is very poor on this bike. The cha...     Everything   \n",
       "2  I purchased this in April 2022 and the sales s...  Daily Commute   \n",
       "3  If any issues come in scooty parts not availab...  Daily Commute   \n",
       "4  Don't buy this vehicle unless you have a near ...  Daily Commute   \n",
       "\n",
       "       Owned for      Ridden for  rating  Visual Appeal  Reliability  \\\n",
       "0    Never owned             NaN       1            3.0          4.0   \n",
       "1         > 1 yr      < 5000 kms       1            3.0          1.0   \n",
       "2     < 3 months      < 5000 kms       3            4.0          4.0   \n",
       "3  6 months-1 yr  5000-10000 kms       1            1.0          1.0   \n",
       "4  6 months-1 yr      < 5000 kms       1            3.0          4.0   \n",
       "\n",
       "   Performance  Service Experience  Extra Features  Comfort  Maintenance cost  \\\n",
       "0          NaN                 NaN             NaN      4.0               NaN   \n",
       "1          NaN                 1.0             NaN      3.0               NaN   \n",
       "2          NaN                 2.0             NaN      5.0               NaN   \n",
       "3          NaN                 1.0             NaN      1.0               NaN   \n",
       "4          NaN                 1.0             NaN      3.0               NaN   \n",
       "\n",
       "   Value for Money Model Name  \n",
       "0              1.0  TVS iQube  \n",
       "1              3.0  TVS iQube  \n",
       "2              2.0  TVS iQube  \n",
       "3              1.0  TVS iQube  \n",
       "4              2.0  TVS iQube  "
      ]
     },
     "execution_count": 3,
     "metadata": {},
     "output_type": "execute_result"
    }
   ],
   "source": [
    "\n",
    "df5 = pd.read_csv(\"C:\\\\Users\\\\sp125\\\\OneDrive\\\\Desktop\\\\EV2__SHREYA_FINAL\\\\2-wheeler-EV-bikewale.csv\")\n",
    "df5.head()"
   ]
  },
  {
   "cell_type": "code",
   "execution_count": 4,
   "metadata": {},
   "outputs": [
    {
     "data": {
      "text/plain": [
       "3187"
      ]
     },
     "execution_count": 4,
     "metadata": {},
     "output_type": "execute_result"
    }
   ],
   "source": [
    "df5.isna().sum().sum()"
   ]
  },
  {
   "cell_type": "code",
   "execution_count": 5,
   "metadata": {},
   "outputs": [
    {
     "data": {
      "text/plain": [
       "0      We all checked the bike's capacity to be 150 k...\n",
       "1      Performance is very poor on this bike. The cha...\n",
       "2      I purchased this in April 2022 and the sales s...\n",
       "3      If any issues come in scooty parts not availab...\n",
       "4      Don't buy this vehicle unless you have a near ...\n",
       "                             ...                        \n",
       "839    Scooty is ok but 250 motor power is less. So t...\n",
       "840    Superb scooty. good look, Many color options ....\n",
       "841    Up to 2 years the condition was good,\\nAfter 2...\n",
       "842    Compare to other scooters it is a best bike, c...\n",
       "843    This bike is good as this segment. can use the...\n",
       "Name: review, Length: 844, dtype: object"
      ]
     },
     "execution_count": 5,
     "metadata": {},
     "output_type": "execute_result"
    }
   ],
   "source": [
    "df5.review"
   ]
  },
  {
   "cell_type": "code",
   "execution_count": 6,
   "metadata": {},
   "outputs": [],
   "source": [
    "def sentiment(text):\n",
    "    if type(text) == str:\n",
    "        blob = textblob.TextBlob(text)\n",
    "        return blob.sentiment.polarity\n",
    "    else: return 0"
   ]
  },
  {
   "cell_type": "code",
   "execution_count": 7,
   "metadata": {},
   "outputs": [
    {
     "data": {
      "text/plain": [
       "0.17247112348469865"
      ]
     },
     "execution_count": 7,
     "metadata": {},
     "output_type": "execute_result"
    }
   ],
   "source": [
    "(df5.review.apply(sentiment)).mean()"
   ]
  },
  {
   "cell_type": "code",
   "execution_count": 8,
   "metadata": {},
   "outputs": [],
   "source": [
    "df5['sentiment'] = df5.review.apply(sentiment)"
   ]
  },
  {
   "cell_type": "code",
   "execution_count": 9,
   "metadata": {},
   "outputs": [
    {
     "data": {
      "text/html": [
       "<div>\n",
       "<style scoped>\n",
       "    .dataframe tbody tr th:only-of-type {\n",
       "        vertical-align: middle;\n",
       "    }\n",
       "\n",
       "    .dataframe tbody tr th {\n",
       "        vertical-align: top;\n",
       "    }\n",
       "\n",
       "    .dataframe thead th {\n",
       "        text-align: right;\n",
       "    }\n",
       "</style>\n",
       "<table border=\"1\" class=\"dataframe\">\n",
       "  <thead>\n",
       "    <tr style=\"text-align: right;\">\n",
       "      <th></th>\n",
       "      <th>review</th>\n",
       "      <th>Used it for</th>\n",
       "      <th>Owned for</th>\n",
       "      <th>Ridden for</th>\n",
       "      <th>rating</th>\n",
       "      <th>Visual Appeal</th>\n",
       "      <th>Reliability</th>\n",
       "      <th>Performance</th>\n",
       "      <th>Service Experience</th>\n",
       "      <th>Extra Features</th>\n",
       "      <th>Comfort</th>\n",
       "      <th>Maintenance cost</th>\n",
       "      <th>Value for Money</th>\n",
       "      <th>Model Name</th>\n",
       "      <th>sentiment</th>\n",
       "    </tr>\n",
       "  </thead>\n",
       "  <tbody>\n",
       "    <tr>\n",
       "      <th>0</th>\n",
       "      <td>We all checked the bike's capacity to be 150 k...</td>\n",
       "      <td>Daily Commute</td>\n",
       "      <td>Never owned</td>\n",
       "      <td>NaN</td>\n",
       "      <td>1</td>\n",
       "      <td>3.0</td>\n",
       "      <td>4.0</td>\n",
       "      <td>NaN</td>\n",
       "      <td>NaN</td>\n",
       "      <td>NaN</td>\n",
       "      <td>4.0</td>\n",
       "      <td>NaN</td>\n",
       "      <td>1.0</td>\n",
       "      <td>TVS iQube</td>\n",
       "      <td>0.131250</td>\n",
       "    </tr>\n",
       "    <tr>\n",
       "      <th>1</th>\n",
       "      <td>Performance is very poor on this bike. The cha...</td>\n",
       "      <td>Everything</td>\n",
       "      <td>&gt; 1 yr</td>\n",
       "      <td>&lt; 5000 kms</td>\n",
       "      <td>1</td>\n",
       "      <td>3.0</td>\n",
       "      <td>1.0</td>\n",
       "      <td>NaN</td>\n",
       "      <td>1.0</td>\n",
       "      <td>NaN</td>\n",
       "      <td>3.0</td>\n",
       "      <td>NaN</td>\n",
       "      <td>3.0</td>\n",
       "      <td>TVS iQube</td>\n",
       "      <td>-0.192143</td>\n",
       "    </tr>\n",
       "    <tr>\n",
       "      <th>2</th>\n",
       "      <td>I purchased this in April 2022 and the sales s...</td>\n",
       "      <td>Daily Commute</td>\n",
       "      <td>&lt; 3 months</td>\n",
       "      <td>&lt; 5000 kms</td>\n",
       "      <td>3</td>\n",
       "      <td>4.0</td>\n",
       "      <td>4.0</td>\n",
       "      <td>NaN</td>\n",
       "      <td>2.0</td>\n",
       "      <td>NaN</td>\n",
       "      <td>5.0</td>\n",
       "      <td>NaN</td>\n",
       "      <td>2.0</td>\n",
       "      <td>TVS iQube</td>\n",
       "      <td>0.247727</td>\n",
       "    </tr>\n",
       "    <tr>\n",
       "      <th>3</th>\n",
       "      <td>If any issues come in scooty parts not availab...</td>\n",
       "      <td>Daily Commute</td>\n",
       "      <td>6 months-1 yr</td>\n",
       "      <td>5000-10000 kms</td>\n",
       "      <td>1</td>\n",
       "      <td>1.0</td>\n",
       "      <td>1.0</td>\n",
       "      <td>NaN</td>\n",
       "      <td>1.0</td>\n",
       "      <td>NaN</td>\n",
       "      <td>1.0</td>\n",
       "      <td>NaN</td>\n",
       "      <td>1.0</td>\n",
       "      <td>TVS iQube</td>\n",
       "      <td>0.080952</td>\n",
       "    </tr>\n",
       "    <tr>\n",
       "      <th>4</th>\n",
       "      <td>Don't buy this vehicle unless you have a near ...</td>\n",
       "      <td>Daily Commute</td>\n",
       "      <td>6 months-1 yr</td>\n",
       "      <td>&lt; 5000 kms</td>\n",
       "      <td>1</td>\n",
       "      <td>3.0</td>\n",
       "      <td>4.0</td>\n",
       "      <td>NaN</td>\n",
       "      <td>1.0</td>\n",
       "      <td>NaN</td>\n",
       "      <td>3.0</td>\n",
       "      <td>NaN</td>\n",
       "      <td>2.0</td>\n",
       "      <td>TVS iQube</td>\n",
       "      <td>-0.093750</td>\n",
       "    </tr>\n",
       "  </tbody>\n",
       "</table>\n",
       "</div>"
      ],
      "text/plain": [
       "                                              review    Used it for  \\\n",
       "0  We all checked the bike's capacity to be 150 k...  Daily Commute   \n",
       "1  Performance is very poor on this bike. The cha...     Everything   \n",
       "2  I purchased this in April 2022 and the sales s...  Daily Commute   \n",
       "3  If any issues come in scooty parts not availab...  Daily Commute   \n",
       "4  Don't buy this vehicle unless you have a near ...  Daily Commute   \n",
       "\n",
       "       Owned for      Ridden for  rating  Visual Appeal  Reliability  \\\n",
       "0    Never owned             NaN       1            3.0          4.0   \n",
       "1         > 1 yr      < 5000 kms       1            3.0          1.0   \n",
       "2     < 3 months      < 5000 kms       3            4.0          4.0   \n",
       "3  6 months-1 yr  5000-10000 kms       1            1.0          1.0   \n",
       "4  6 months-1 yr      < 5000 kms       1            3.0          4.0   \n",
       "\n",
       "   Performance  Service Experience  Extra Features  Comfort  Maintenance cost  \\\n",
       "0          NaN                 NaN             NaN      4.0               NaN   \n",
       "1          NaN                 1.0             NaN      3.0               NaN   \n",
       "2          NaN                 2.0             NaN      5.0               NaN   \n",
       "3          NaN                 1.0             NaN      1.0               NaN   \n",
       "4          NaN                 1.0             NaN      3.0               NaN   \n",
       "\n",
       "   Value for Money Model Name  sentiment  \n",
       "0              1.0  TVS iQube   0.131250  \n",
       "1              3.0  TVS iQube  -0.192143  \n",
       "2              2.0  TVS iQube   0.247727  \n",
       "3              1.0  TVS iQube   0.080952  \n",
       "4              2.0  TVS iQube  -0.093750  "
      ]
     },
     "execution_count": 9,
     "metadata": {},
     "output_type": "execute_result"
    }
   ],
   "source": [
    "df5.head()"
   ]
  },
  {
   "cell_type": "code",
   "execution_count": 10,
   "metadata": {},
   "outputs": [],
   "source": [
    "df5['Ridden for'] = df5['Ridden for'].replace({np.nan:0, '< 5000 kms':5000, '5000-10000 kms':7500, '> 15000 kms':15000,\n",
    "       '10000-15000 kms':12500, 'Never owned':0})"
   ]
  },
  {
   "cell_type": "code",
   "execution_count": 11,
   "metadata": {},
   "outputs": [],
   "source": [
    "df5 = df5.fillna(0)"
   ]
  },
  {
   "cell_type": "code",
   "execution_count": 12,
   "metadata": {},
   "outputs": [
    {
     "name": "stdout",
     "output_type": "stream",
     "text": [
      "<class 'pandas.core.frame.DataFrame'>\n",
      "RangeIndex: 844 entries, 0 to 843\n",
      "Data columns (total 15 columns):\n",
      " #   Column              Non-Null Count  Dtype  \n",
      "---  ------              --------------  -----  \n",
      " 0   review              844 non-null    object \n",
      " 1   Used it for         844 non-null    object \n",
      " 2   Owned for           844 non-null    object \n",
      " 3   Ridden for          844 non-null    int64  \n",
      " 4   rating              844 non-null    int64  \n",
      " 5   Visual Appeal       844 non-null    float64\n",
      " 6   Reliability         844 non-null    float64\n",
      " 7   Performance         844 non-null    float64\n",
      " 8   Service Experience  844 non-null    float64\n",
      " 9   Extra Features      844 non-null    float64\n",
      " 10  Comfort             844 non-null    float64\n",
      " 11  Maintenance cost    844 non-null    float64\n",
      " 12  Value for Money     844 non-null    float64\n",
      " 13  Model Name          844 non-null    object \n",
      " 14  sentiment           844 non-null    float64\n",
      "dtypes: float64(9), int64(2), object(4)\n",
      "memory usage: 99.0+ KB\n"
     ]
    }
   ],
   "source": [
    "df5.info()"
   ]
  },
  {
   "cell_type": "code",
   "execution_count": 13,
   "metadata": {},
   "outputs": [
    {
     "data": {
      "text/html": [
       "<div>\n",
       "<style scoped>\n",
       "    .dataframe tbody tr th:only-of-type {\n",
       "        vertical-align: middle;\n",
       "    }\n",
       "\n",
       "    .dataframe tbody tr th {\n",
       "        vertical-align: top;\n",
       "    }\n",
       "\n",
       "    .dataframe thead th {\n",
       "        text-align: right;\n",
       "    }\n",
       "</style>\n",
       "<table border=\"1\" class=\"dataframe\">\n",
       "  <thead>\n",
       "    <tr style=\"text-align: right;\">\n",
       "      <th></th>\n",
       "      <th>review</th>\n",
       "      <th>Used it for</th>\n",
       "      <th>Owned for</th>\n",
       "      <th>Ridden for</th>\n",
       "      <th>rating</th>\n",
       "      <th>Visual Appeal</th>\n",
       "      <th>Reliability</th>\n",
       "      <th>Performance</th>\n",
       "      <th>Service Experience</th>\n",
       "      <th>Extra Features</th>\n",
       "      <th>Comfort</th>\n",
       "      <th>Maintenance cost</th>\n",
       "      <th>Value for Money</th>\n",
       "      <th>Model Name</th>\n",
       "      <th>sentiment</th>\n",
       "    </tr>\n",
       "  </thead>\n",
       "  <tbody>\n",
       "    <tr>\n",
       "      <th>0</th>\n",
       "      <td>We all checked the bike's capacity to be 150 k...</td>\n",
       "      <td>Daily Commute</td>\n",
       "      <td>Never owned</td>\n",
       "      <td>0</td>\n",
       "      <td>1</td>\n",
       "      <td>3.0</td>\n",
       "      <td>4.0</td>\n",
       "      <td>0.0</td>\n",
       "      <td>0.0</td>\n",
       "      <td>0.0</td>\n",
       "      <td>4.0</td>\n",
       "      <td>0.0</td>\n",
       "      <td>1.0</td>\n",
       "      <td>TVS iQube</td>\n",
       "      <td>0.131250</td>\n",
       "    </tr>\n",
       "    <tr>\n",
       "      <th>1</th>\n",
       "      <td>Performance is very poor on this bike. The cha...</td>\n",
       "      <td>Everything</td>\n",
       "      <td>&gt; 1 yr</td>\n",
       "      <td>5000</td>\n",
       "      <td>1</td>\n",
       "      <td>3.0</td>\n",
       "      <td>1.0</td>\n",
       "      <td>0.0</td>\n",
       "      <td>1.0</td>\n",
       "      <td>0.0</td>\n",
       "      <td>3.0</td>\n",
       "      <td>0.0</td>\n",
       "      <td>3.0</td>\n",
       "      <td>TVS iQube</td>\n",
       "      <td>-0.192143</td>\n",
       "    </tr>\n",
       "    <tr>\n",
       "      <th>2</th>\n",
       "      <td>I purchased this in April 2022 and the sales s...</td>\n",
       "      <td>Daily Commute</td>\n",
       "      <td>&lt; 3 months</td>\n",
       "      <td>5000</td>\n",
       "      <td>3</td>\n",
       "      <td>4.0</td>\n",
       "      <td>4.0</td>\n",
       "      <td>0.0</td>\n",
       "      <td>2.0</td>\n",
       "      <td>0.0</td>\n",
       "      <td>5.0</td>\n",
       "      <td>0.0</td>\n",
       "      <td>2.0</td>\n",
       "      <td>TVS iQube</td>\n",
       "      <td>0.247727</td>\n",
       "    </tr>\n",
       "    <tr>\n",
       "      <th>3</th>\n",
       "      <td>If any issues come in scooty parts not availab...</td>\n",
       "      <td>Daily Commute</td>\n",
       "      <td>6 months-1 yr</td>\n",
       "      <td>7500</td>\n",
       "      <td>1</td>\n",
       "      <td>1.0</td>\n",
       "      <td>1.0</td>\n",
       "      <td>0.0</td>\n",
       "      <td>1.0</td>\n",
       "      <td>0.0</td>\n",
       "      <td>1.0</td>\n",
       "      <td>0.0</td>\n",
       "      <td>1.0</td>\n",
       "      <td>TVS iQube</td>\n",
       "      <td>0.080952</td>\n",
       "    </tr>\n",
       "    <tr>\n",
       "      <th>4</th>\n",
       "      <td>Don't buy this vehicle unless you have a near ...</td>\n",
       "      <td>Daily Commute</td>\n",
       "      <td>6 months-1 yr</td>\n",
       "      <td>5000</td>\n",
       "      <td>1</td>\n",
       "      <td>3.0</td>\n",
       "      <td>4.0</td>\n",
       "      <td>0.0</td>\n",
       "      <td>1.0</td>\n",
       "      <td>0.0</td>\n",
       "      <td>3.0</td>\n",
       "      <td>0.0</td>\n",
       "      <td>2.0</td>\n",
       "      <td>TVS iQube</td>\n",
       "      <td>-0.093750</td>\n",
       "    </tr>\n",
       "  </tbody>\n",
       "</table>\n",
       "</div>"
      ],
      "text/plain": [
       "                                              review    Used it for  \\\n",
       "0  We all checked the bike's capacity to be 150 k...  Daily Commute   \n",
       "1  Performance is very poor on this bike. The cha...     Everything   \n",
       "2  I purchased this in April 2022 and the sales s...  Daily Commute   \n",
       "3  If any issues come in scooty parts not availab...  Daily Commute   \n",
       "4  Don't buy this vehicle unless you have a near ...  Daily Commute   \n",
       "\n",
       "       Owned for  Ridden for  rating  Visual Appeal  Reliability  Performance  \\\n",
       "0    Never owned           0       1            3.0          4.0          0.0   \n",
       "1         > 1 yr        5000       1            3.0          1.0          0.0   \n",
       "2     < 3 months        5000       3            4.0          4.0          0.0   \n",
       "3  6 months-1 yr        7500       1            1.0          1.0          0.0   \n",
       "4  6 months-1 yr        5000       1            3.0          4.0          0.0   \n",
       "\n",
       "   Service Experience  Extra Features  Comfort  Maintenance cost  \\\n",
       "0                 0.0             0.0      4.0               0.0   \n",
       "1                 1.0             0.0      3.0               0.0   \n",
       "2                 2.0             0.0      5.0               0.0   \n",
       "3                 1.0             0.0      1.0               0.0   \n",
       "4                 1.0             0.0      3.0               0.0   \n",
       "\n",
       "   Value for Money Model Name  sentiment  \n",
       "0              1.0  TVS iQube   0.131250  \n",
       "1              3.0  TVS iQube  -0.192143  \n",
       "2              2.0  TVS iQube   0.247727  \n",
       "3              1.0  TVS iQube   0.080952  \n",
       "4              2.0  TVS iQube  -0.093750  "
      ]
     },
     "execution_count": 13,
     "metadata": {},
     "output_type": "execute_result"
    }
   ],
   "source": [
    "df5.head()"
   ]
  },
  {
   "cell_type": "code",
   "execution_count": 14,
   "metadata": {},
   "outputs": [
    {
     "data": {
      "text/html": [
       "<div>\n",
       "<style scoped>\n",
       "    .dataframe tbody tr th:only-of-type {\n",
       "        vertical-align: middle;\n",
       "    }\n",
       "\n",
       "    .dataframe tbody tr th {\n",
       "        vertical-align: top;\n",
       "    }\n",
       "\n",
       "    .dataframe thead th {\n",
       "        text-align: right;\n",
       "    }\n",
       "</style>\n",
       "<table border=\"1\" class=\"dataframe\">\n",
       "  <thead>\n",
       "    <tr style=\"text-align: right;\">\n",
       "      <th></th>\n",
       "      <th>Ridden for</th>\n",
       "      <th>rating</th>\n",
       "      <th>Visual Appeal</th>\n",
       "      <th>Reliability</th>\n",
       "      <th>Performance</th>\n",
       "      <th>Service Experience</th>\n",
       "      <th>Extra Features</th>\n",
       "      <th>Comfort</th>\n",
       "      <th>Maintenance cost</th>\n",
       "      <th>Value for Money</th>\n",
       "      <th>sentiment</th>\n",
       "    </tr>\n",
       "  </thead>\n",
       "  <tbody>\n",
       "    <tr>\n",
       "      <th>0</th>\n",
       "      <td>0</td>\n",
       "      <td>1</td>\n",
       "      <td>3.0</td>\n",
       "      <td>4.0</td>\n",
       "      <td>0.0</td>\n",
       "      <td>0.0</td>\n",
       "      <td>0.0</td>\n",
       "      <td>4.0</td>\n",
       "      <td>0.0</td>\n",
       "      <td>1.0</td>\n",
       "      <td>0.131250</td>\n",
       "    </tr>\n",
       "    <tr>\n",
       "      <th>1</th>\n",
       "      <td>5000</td>\n",
       "      <td>1</td>\n",
       "      <td>3.0</td>\n",
       "      <td>1.0</td>\n",
       "      <td>0.0</td>\n",
       "      <td>1.0</td>\n",
       "      <td>0.0</td>\n",
       "      <td>3.0</td>\n",
       "      <td>0.0</td>\n",
       "      <td>3.0</td>\n",
       "      <td>-0.192143</td>\n",
       "    </tr>\n",
       "    <tr>\n",
       "      <th>2</th>\n",
       "      <td>5000</td>\n",
       "      <td>3</td>\n",
       "      <td>4.0</td>\n",
       "      <td>4.0</td>\n",
       "      <td>0.0</td>\n",
       "      <td>2.0</td>\n",
       "      <td>0.0</td>\n",
       "      <td>5.0</td>\n",
       "      <td>0.0</td>\n",
       "      <td>2.0</td>\n",
       "      <td>0.247727</td>\n",
       "    </tr>\n",
       "    <tr>\n",
       "      <th>3</th>\n",
       "      <td>7500</td>\n",
       "      <td>1</td>\n",
       "      <td>1.0</td>\n",
       "      <td>1.0</td>\n",
       "      <td>0.0</td>\n",
       "      <td>1.0</td>\n",
       "      <td>0.0</td>\n",
       "      <td>1.0</td>\n",
       "      <td>0.0</td>\n",
       "      <td>1.0</td>\n",
       "      <td>0.080952</td>\n",
       "    </tr>\n",
       "    <tr>\n",
       "      <th>4</th>\n",
       "      <td>5000</td>\n",
       "      <td>1</td>\n",
       "      <td>3.0</td>\n",
       "      <td>4.0</td>\n",
       "      <td>0.0</td>\n",
       "      <td>1.0</td>\n",
       "      <td>0.0</td>\n",
       "      <td>3.0</td>\n",
       "      <td>0.0</td>\n",
       "      <td>2.0</td>\n",
       "      <td>-0.093750</td>\n",
       "    </tr>\n",
       "  </tbody>\n",
       "</table>\n",
       "</div>"
      ],
      "text/plain": [
       "   Ridden for  rating  Visual Appeal  Reliability  Performance  \\\n",
       "0           0       1            3.0          4.0          0.0   \n",
       "1        5000       1            3.0          1.0          0.0   \n",
       "2        5000       3            4.0          4.0          0.0   \n",
       "3        7500       1            1.0          1.0          0.0   \n",
       "4        5000       1            3.0          4.0          0.0   \n",
       "\n",
       "   Service Experience  Extra Features  Comfort  Maintenance cost  \\\n",
       "0                 0.0             0.0      4.0               0.0   \n",
       "1                 1.0             0.0      3.0               0.0   \n",
       "2                 2.0             0.0      5.0               0.0   \n",
       "3                 1.0             0.0      1.0               0.0   \n",
       "4                 1.0             0.0      3.0               0.0   \n",
       "\n",
       "   Value for Money  sentiment  \n",
       "0              1.0   0.131250  \n",
       "1              3.0  -0.192143  \n",
       "2              2.0   0.247727  \n",
       "3              1.0   0.080952  \n",
       "4              2.0  -0.093750  "
      ]
     },
     "execution_count": 14,
     "metadata": {},
     "output_type": "execute_result"
    }
   ],
   "source": [
    "df5_numeric = df5.select_dtypes(['float', 'int'])\n",
    "df5_numeric.head()"
   ]
  },
  {
   "cell_type": "code",
   "execution_count": 15,
   "metadata": {},
   "outputs": [
    {
     "data": {
      "text/plain": [
       "(844, 11)"
      ]
     },
     "execution_count": 15,
     "metadata": {},
     "output_type": "execute_result"
    }
   ],
   "source": [
    "df5_numeric.shape"
   ]
  },
  {
   "cell_type": "code",
   "execution_count": 16,
   "metadata": {},
   "outputs": [
    {
     "data": {
      "text/plain": [
       "array([[-5.09478640e+03,  1.57895971e+00, -2.37559663e+00,\n",
       "         7.10846194e-01, -2.31221188e+00,  8.83832566e-01,\n",
       "        -2.20355868e+00, -1.17549230e+00,  9.50159161e-01,\n",
       "         1.24147132e+00,  2.63160832e-01],\n",
       "       [-9.47862637e+01,  1.78523774e+00, -3.00159072e+00,\n",
       "        -2.47016616e-01, -1.83166350e+00,  7.02699483e-01,\n",
       "         5.99162224e-01, -6.99619389e-01, -6.44838195e-01,\n",
       "         7.19584931e-02, -7.10246006e-02],\n",
       "       [-9.47867780e+01, -1.66351102e+00, -2.20235883e+00,\n",
       "         7.48821253e-01, -9.11920631e-01,  6.10591260e-01,\n",
       "        -7.89786776e-01, -8.27536523e-01,  1.06030581e+00,\n",
       "         1.02974941e+00,  1.39499095e-01],\n",
       "       [ 2.40521381e+03,  3.89492985e+00, -1.73171211e+00,\n",
       "         1.02746254e-01, -5.32441297e-01, -7.76133515e-01,\n",
       "        -3.19208957e-01,  2.54534406e-02, -2.02738853e-01,\n",
       "         6.85067022e-02,  1.84883008e-01],\n",
       "       [-9.47864171e+01,  7.54018617e-01, -2.07147461e+00,\n",
       "         7.76271792e-02, -2.01468037e+00,  3.41742471e-01,\n",
       "        -1.99129463e+00, -4.25768187e-01,  2.45772065e-01,\n",
       "         5.44663247e-01,  2.83530490e-02]])"
      ]
     },
     "execution_count": 16,
     "metadata": {},
     "output_type": "execute_result"
    }
   ],
   "source": [
    "pca3 = PCA(n_components=11)\n",
    "df5_numeric_pca = pca3.fit_transform(df5_numeric)\n",
    "df5_numeric_pca[:5]"
   ]
  },
  {
   "cell_type": "code",
   "execution_count": 17,
   "metadata": {},
   "outputs": [
    {
     "data": {
      "image/png": "[encoded data removed]",
      "text/plain": [
       "<Figure size 640x480 with 1 Axes>"
      ]
     },
     "metadata": {},
     "output_type": "display_data"
    }
   ],
   "source": [
    "import matplotlib.pyplot as plt\n",
    "\n",
    "pca = PCA(n_components=5)\n",
    "\n",
    "# Assuming df5_numeric is your DataFrame with numerical columns\n",
    "df5_numeric_pca = pca.fit_transform(df5_numeric)  # Fit and transform\n",
    "\n",
    "def pca_plot(pca, df, x_axis=0, y_axis=1, scale=1):\n",
    "    plt.scatter(pca.components_[x_axis]*scale, pca.components_[y_axis]*scale, color='black')\n",
    "    for x, y, name in zip(pca.components_[x_axis]*scale, pca.components_[y_axis]*scale, df.columns):\n",
    "        plt.text(x, y+0.02, name, color='blue')\n",
    "        plt.annotate('', (x,y), (0,0), arrowprops=dict(arrowstyle='->', color='red'))\n",
    "    plt.scatter(0, 0, c='red')\n",
    "    plt.xlabel(f'PCA{x_axis+1}')\n",
    "    plt.ylabel(f'PCA{y_axis+1}')\n",
    "    plt.show()\n",
    "\n",
    "pca_plot(pca, df5_numeric)  # Assuming df1_2 is your DataFrame\n"
   ]
  },
  {
   "cell_type": "code",
   "execution_count": 54,
   "metadata": {},
   "outputs": [
    {
     "data": {
      "image/png": "[encoded data removed]",
      "text/plain": [
       "<Figure size 1000x600 with 2 Axes>"
      ]
     },
     "metadata": {},
     "output_type": "display_data"
    }
   ],
   "source": [
    "if df5_numeric.shape[1] > 1:  # Check for multiple numeric columns\n",
    "    correlation_matrix = df5_numeric.corr()\n",
    "    plt.figure(figsize=(10, 6))\n",
    "    sns.heatmap(correlation_matrix, annot=True, cmap='coolwarm')  # Adjust colormap as desired\n",
    "    plt.title('Correlation Heatmap of 2-Wheeler EV Features')\n",
    "    plt.show()\n"
   ]
  },
  {
   "cell_type": "markdown",
   "metadata": {},
   "source": [
    "# CAR DETAILS FROM CAR DEKHO.csv"
   ]
  },
  {
   "cell_type": "code",
   "execution_count": 18,
   "metadata": {},
   "outputs": [
    {
     "data": {
      "text/html": [
       "<div>\n",
       "<style scoped>\n",
       "    .dataframe tbody tr th:only-of-type {\n",
       "        vertical-align: middle;\n",
       "    }\n",
       "\n",
       "    .dataframe tbody tr th {\n",
       "        vertical-align: top;\n",
       "    }\n",
       "\n",
       "    .dataframe thead th {\n",
       "        text-align: right;\n",
       "    }\n",
       "</style>\n",
       "<table border=\"1\" class=\"dataframe\">\n",
       "  <thead>\n",
       "    <tr style=\"text-align: right;\">\n",
       "      <th></th>\n",
       "      <th>name</th>\n",
       "      <th>year</th>\n",
       "      <th>selling_price</th>\n",
       "      <th>km_driven</th>\n",
       "      <th>fuel</th>\n",
       "      <th>seller_type</th>\n",
       "      <th>transmission</th>\n",
       "      <th>owner</th>\n",
       "    </tr>\n",
       "  </thead>\n",
       "  <tbody>\n",
       "    <tr>\n",
       "      <th>0</th>\n",
       "      <td>Maruti 800 AC</td>\n",
       "      <td>2007</td>\n",
       "      <td>60000</td>\n",
       "      <td>70000</td>\n",
       "      <td>Petrol</td>\n",
       "      <td>Individual</td>\n",
       "      <td>Manual</td>\n",
       "      <td>First Owner</td>\n",
       "    </tr>\n",
       "    <tr>\n",
       "      <th>1</th>\n",
       "      <td>Maruti Wagon R LXI Minor</td>\n",
       "      <td>2007</td>\n",
       "      <td>135000</td>\n",
       "      <td>50000</td>\n",
       "      <td>Petrol</td>\n",
       "      <td>Individual</td>\n",
       "      <td>Manual</td>\n",
       "      <td>First Owner</td>\n",
       "    </tr>\n",
       "    <tr>\n",
       "      <th>2</th>\n",
       "      <td>Hyundai Verna 1.6 SX</td>\n",
       "      <td>2012</td>\n",
       "      <td>600000</td>\n",
       "      <td>100000</td>\n",
       "      <td>Diesel</td>\n",
       "      <td>Individual</td>\n",
       "      <td>Manual</td>\n",
       "      <td>First Owner</td>\n",
       "    </tr>\n",
       "    <tr>\n",
       "      <th>3</th>\n",
       "      <td>Datsun RediGO T Option</td>\n",
       "      <td>2017</td>\n",
       "      <td>250000</td>\n",
       "      <td>46000</td>\n",
       "      <td>Petrol</td>\n",
       "      <td>Individual</td>\n",
       "      <td>Manual</td>\n",
       "      <td>First Owner</td>\n",
       "    </tr>\n",
       "    <tr>\n",
       "      <th>4</th>\n",
       "      <td>Honda Amaze VX i-DTEC</td>\n",
       "      <td>2014</td>\n",
       "      <td>450000</td>\n",
       "      <td>141000</td>\n",
       "      <td>Diesel</td>\n",
       "      <td>Individual</td>\n",
       "      <td>Manual</td>\n",
       "      <td>Second Owner</td>\n",
       "    </tr>\n",
       "  </tbody>\n",
       "</table>\n",
       "</div>"
      ],
      "text/plain": [
       "                       name  year  selling_price  km_driven    fuel  \\\n",
       "0             Maruti 800 AC  2007          60000      70000  Petrol   \n",
       "1  Maruti Wagon R LXI Minor  2007         135000      50000  Petrol   \n",
       "2      Hyundai Verna 1.6 SX  2012         600000     100000  Diesel   \n",
       "3    Datsun RediGO T Option  2017         250000      46000  Petrol   \n",
       "4     Honda Amaze VX i-DTEC  2014         450000     141000  Diesel   \n",
       "\n",
       "  seller_type transmission         owner  \n",
       "0  Individual       Manual   First Owner  \n",
       "1  Individual       Manual   First Owner  \n",
       "2  Individual       Manual   First Owner  \n",
       "3  Individual       Manual   First Owner  \n",
       "4  Individual       Manual  Second Owner  "
      ]
     },
     "execution_count": 18,
     "metadata": {},
     "output_type": "execute_result"
    }
   ],
   "source": [
    "df6 = pd.read_csv(\"C:\\\\Users\\\\sp125\\\\OneDrive\\\\Desktop\\\\EV2__SHREYA_FINAL\\\\CAR DETAILS FROM CAR DEKHO.csv\")\n",
    "df6.head()"
   ]
  },
  {
   "cell_type": "code",
   "execution_count": 19,
   "metadata": {},
   "outputs": [
    {
     "data": {
      "text/plain": [
       "0"
      ]
     },
     "execution_count": 19,
     "metadata": {},
     "output_type": "execute_result"
    }
   ],
   "source": [
    "df6.isna().sum().sum()"
   ]
  },
  {
   "cell_type": "code",
   "execution_count": 20,
   "metadata": {},
   "outputs": [
    {
     "data": {
      "text/plain": [
       "array(['Petrol', 'Diesel', 'CNG', 'LPG', 'Electric'], dtype=object)"
      ]
     },
     "execution_count": 20,
     "metadata": {},
     "output_type": "execute_result"
    }
   ],
   "source": [
    "df6.fuel.unique()"
   ]
  },
  {
   "cell_type": "code",
   "execution_count": 21,
   "metadata": {},
   "outputs": [],
   "source": [
    "df6_1 = df6[df6.fuel != 'Electric']"
   ]
  },
  {
   "cell_type": "code",
   "execution_count": 22,
   "metadata": {},
   "outputs": [
    {
     "data": {
      "text/html": [
       "<div>\n",
       "<style scoped>\n",
       "    .dataframe tbody tr th:only-of-type {\n",
       "        vertical-align: middle;\n",
       "    }\n",
       "\n",
       "    .dataframe tbody tr th {\n",
       "        vertical-align: top;\n",
       "    }\n",
       "\n",
       "    .dataframe thead th {\n",
       "        text-align: right;\n",
       "    }\n",
       "</style>\n",
       "<table border=\"1\" class=\"dataframe\">\n",
       "  <thead>\n",
       "    <tr style=\"text-align: right;\">\n",
       "      <th></th>\n",
       "      <th>year</th>\n",
       "      <th>selling_price</th>\n",
       "      <th>km_driven</th>\n",
       "    </tr>\n",
       "  </thead>\n",
       "  <tbody>\n",
       "    <tr>\n",
       "      <th>0</th>\n",
       "      <td>1992</td>\n",
       "      <td>50000</td>\n",
       "      <td>100000</td>\n",
       "    </tr>\n",
       "    <tr>\n",
       "      <th>1</th>\n",
       "      <td>1995</td>\n",
       "      <td>95000</td>\n",
       "      <td>100000</td>\n",
       "    </tr>\n",
       "    <tr>\n",
       "      <th>2</th>\n",
       "      <td>1996</td>\n",
       "      <td>450000</td>\n",
       "      <td>95000</td>\n",
       "    </tr>\n",
       "    <tr>\n",
       "      <th>3</th>\n",
       "      <td>1997</td>\n",
       "      <td>279000</td>\n",
       "      <td>270000</td>\n",
       "    </tr>\n",
       "    <tr>\n",
       "      <th>4</th>\n",
       "      <td>1998</td>\n",
       "      <td>2568000</td>\n",
       "      <td>775000</td>\n",
       "    </tr>\n",
       "  </tbody>\n",
       "</table>\n",
       "</div>"
      ],
      "text/plain": [
       "   year  selling_price  km_driven\n",
       "0  1992          50000     100000\n",
       "1  1995          95000     100000\n",
       "2  1996         450000      95000\n",
       "3  1997         279000     270000\n",
       "4  1998        2568000     775000"
      ]
     },
     "execution_count": 22,
     "metadata": {},
     "output_type": "execute_result"
    }
   ],
   "source": [
    "df6_1 = df6_1.select_dtypes(['float', 'int']).groupby('year').sum().reset_index()\n",
    "df6_1.head()"
   ]
  },
  {
   "cell_type": "markdown",
   "metadata": {},
   "source": [
    "## Sentiment Distribution of Reviews (Bar Chart)"
   ]
  },
  {
   "cell_type": "code",
   "execution_count": 52,
   "metadata": {},
   "outputs": [
    {
     "data": {
      "image/png": "[encoded data removed]",
      "text/plain": [
       "<Figure size 800x600 with 1 Axes>"
      ]
     },
     "metadata": {},
     "output_type": "display_data"
    }
   ],
   "source": [
    "sentiment_counts = df5[\"sentiment\"].value_counts()\n",
    "plt.figure(figsize=(8, 6))\n",
    "sns.barplot(x=sentiment_counts.index, y=sentiment_counts.values)\n",
    "plt.xlabel(\"Sentiment Score\")\n",
    "plt.ylabel(\"Number of Reviews\")\n",
    "plt.title(\"Sentiment Distribution of User Reviews for 2-Wheeler EVs\")\n",
    "plt.xticks(rotation=0)  # Adjust x-axis tick labels for readability\n",
    "plt.show()\n"
   ]
  },
  {
   "cell_type": "code",
   "execution_count": 23,
   "metadata": {},
   "outputs": [
    {
     "data": {
      "image/png": "[encoded data removed]",
      "text/plain": [
       "<Figure size 1000x300 with 2 Axes>"
      ]
     },
     "metadata": {},
     "output_type": "display_data"
    }
   ],
   "source": [
    "fig, axs = plt.subplots(1,2, figsize=(10, 3))\n",
    "axs[0].plot(df6_1.year, df6_1.selling_price)\n",
    "axs[0].set_title('Selling Price')\n",
    "axs[0].set_xlabel('Year')\n",
    "axs[1].plot(df6_1.year, df6_1.km_driven)\n",
    "axs[1].set_title('Km Driven')\n",
    "axs[1].set_xlabel('Year')\n",
    "plt.show()"
   ]
  },
  {
   "cell_type": "code",
   "execution_count": 24,
   "metadata": {},
   "outputs": [
    {
     "data": {
      "text/html": [
       "<div>\n",
       "<style scoped>\n",
       "    .dataframe tbody tr th:only-of-type {\n",
       "        vertical-align: middle;\n",
       "    }\n",
       "\n",
       "    .dataframe tbody tr th {\n",
       "        vertical-align: top;\n",
       "    }\n",
       "\n",
       "    .dataframe thead th {\n",
       "        text-align: right;\n",
       "    }\n",
       "</style>\n",
       "<table border=\"1\" class=\"dataframe\">\n",
       "  <thead>\n",
       "    <tr style=\"text-align: right;\">\n",
       "      <th></th>\n",
       "      <th>name</th>\n",
       "      <th>year</th>\n",
       "      <th>selling_price</th>\n",
       "      <th>km_driven</th>\n",
       "      <th>fuel</th>\n",
       "      <th>seller_type</th>\n",
       "      <th>transmission</th>\n",
       "      <th>owner</th>\n",
       "    </tr>\n",
       "  </thead>\n",
       "  <tbody>\n",
       "    <tr>\n",
       "      <th>4145</th>\n",
       "      <td>Toyota Camry Hybrid</td>\n",
       "      <td>2006</td>\n",
       "      <td>310000</td>\n",
       "      <td>62000</td>\n",
       "      <td>Electric</td>\n",
       "      <td>Dealer</td>\n",
       "      <td>Automatic</td>\n",
       "      <td>Second Owner</td>\n",
       "    </tr>\n",
       "  </tbody>\n",
       "</table>\n",
       "</div>"
      ],
      "text/plain": [
       "                     name  year  selling_price  km_driven      fuel  \\\n",
       "4145  Toyota Camry Hybrid  2006         310000      62000  Electric   \n",
       "\n",
       "     seller_type transmission         owner  \n",
       "4145      Dealer    Automatic  Second Owner  "
      ]
     },
     "execution_count": 24,
     "metadata": {},
     "output_type": "execute_result"
    }
   ],
   "source": [
    "df6_2 = df6[df6.fuel == 'Electric']\n",
    "df6_2.head()"
   ]
  },
  {
   "cell_type": "code",
   "execution_count": 25,
   "metadata": {},
   "outputs": [
    {
     "data": {
      "text/plain": [
       "array(['Individual', 'Dealer', 'Trustmark Dealer'], dtype=object)"
      ]
     },
     "execution_count": 25,
     "metadata": {},
     "output_type": "execute_result"
    }
   ],
   "source": [
    "df6.seller_type.unique()"
   ]
  },
  {
   "cell_type": "code",
   "execution_count": 26,
   "metadata": {},
   "outputs": [
    {
     "data": {
      "text/plain": [
       "array(['Manual', 'Automatic'], dtype=object)"
      ]
     },
     "execution_count": 26,
     "metadata": {},
     "output_type": "execute_result"
    }
   ],
   "source": [
    "df6.transmission.unique()"
   ]
  },
  {
   "cell_type": "code",
   "execution_count": 27,
   "metadata": {},
   "outputs": [
    {
     "data": {
      "text/plain": [
       "array(['First Owner', 'Second Owner', 'Fourth & Above Owner',\n",
       "       'Third Owner', 'Test Drive Car'], dtype=object)"
      ]
     },
     "execution_count": 27,
     "metadata": {},
     "output_type": "execute_result"
    }
   ],
   "source": [
    "df6.owner.unique()"
   ]
  },
  {
   "cell_type": "markdown",
   "metadata": {},
   "source": [
    "# Electric Car.csv"
   ]
  },
  {
   "cell_type": "code",
   "execution_count": 28,
   "metadata": {},
   "outputs": [
    {
     "data": {
      "text/html": [
       "<div>\n",
       "<style scoped>\n",
       "    .dataframe tbody tr th:only-of-type {\n",
       "        vertical-align: middle;\n",
       "    }\n",
       "\n",
       "    .dataframe tbody tr th {\n",
       "        vertical-align: top;\n",
       "    }\n",
       "\n",
       "    .dataframe thead th {\n",
       "        text-align: right;\n",
       "    }\n",
       "</style>\n",
       "<table border=\"1\" class=\"dataframe\">\n",
       "  <thead>\n",
       "    <tr style=\"text-align: right;\">\n",
       "      <th></th>\n",
       "      <th>Brand</th>\n",
       "      <th>Model</th>\n",
       "      <th>AccelSec</th>\n",
       "      <th>TopSpeed_KmH</th>\n",
       "      <th>Range_Km</th>\n",
       "      <th>Efficiency_WhKm</th>\n",
       "      <th>FastCharge_KmH</th>\n",
       "      <th>RapidCharge</th>\n",
       "      <th>PowerTrain</th>\n",
       "      <th>PlugType</th>\n",
       "      <th>BodyStyle</th>\n",
       "      <th>Segment</th>\n",
       "      <th>Seats</th>\n",
       "      <th>PriceEuro</th>\n",
       "    </tr>\n",
       "  </thead>\n",
       "  <tbody>\n",
       "    <tr>\n",
       "      <th>0</th>\n",
       "      <td>Tesla</td>\n",
       "      <td>Model 3 Long Range Dual Motor</td>\n",
       "      <td>4.6</td>\n",
       "      <td>233</td>\n",
       "      <td>450</td>\n",
       "      <td>161</td>\n",
       "      <td>940</td>\n",
       "      <td>Yes</td>\n",
       "      <td>AWD</td>\n",
       "      <td>Type 2 CCS</td>\n",
       "      <td>Sedan</td>\n",
       "      <td>D</td>\n",
       "      <td>5</td>\n",
       "      <td>55480</td>\n",
       "    </tr>\n",
       "    <tr>\n",
       "      <th>1</th>\n",
       "      <td>Volkswagen</td>\n",
       "      <td>ID.3 Pure</td>\n",
       "      <td>10.0</td>\n",
       "      <td>160</td>\n",
       "      <td>270</td>\n",
       "      <td>167</td>\n",
       "      <td>250</td>\n",
       "      <td>Yes</td>\n",
       "      <td>RWD</td>\n",
       "      <td>Type 2 CCS</td>\n",
       "      <td>Hatchback</td>\n",
       "      <td>C</td>\n",
       "      <td>5</td>\n",
       "      <td>30000</td>\n",
       "    </tr>\n",
       "    <tr>\n",
       "      <th>2</th>\n",
       "      <td>Polestar</td>\n",
       "      <td>2</td>\n",
       "      <td>4.7</td>\n",
       "      <td>210</td>\n",
       "      <td>400</td>\n",
       "      <td>181</td>\n",
       "      <td>620</td>\n",
       "      <td>Yes</td>\n",
       "      <td>AWD</td>\n",
       "      <td>Type 2 CCS</td>\n",
       "      <td>Liftback</td>\n",
       "      <td>D</td>\n",
       "      <td>5</td>\n",
       "      <td>56440</td>\n",
       "    </tr>\n",
       "    <tr>\n",
       "      <th>3</th>\n",
       "      <td>BMW</td>\n",
       "      <td>iX3</td>\n",
       "      <td>6.8</td>\n",
       "      <td>180</td>\n",
       "      <td>360</td>\n",
       "      <td>206</td>\n",
       "      <td>560</td>\n",
       "      <td>Yes</td>\n",
       "      <td>RWD</td>\n",
       "      <td>Type 2 CCS</td>\n",
       "      <td>SUV</td>\n",
       "      <td>D</td>\n",
       "      <td>5</td>\n",
       "      <td>68040</td>\n",
       "    </tr>\n",
       "    <tr>\n",
       "      <th>4</th>\n",
       "      <td>Honda</td>\n",
       "      <td>e</td>\n",
       "      <td>9.5</td>\n",
       "      <td>145</td>\n",
       "      <td>170</td>\n",
       "      <td>168</td>\n",
       "      <td>190</td>\n",
       "      <td>Yes</td>\n",
       "      <td>RWD</td>\n",
       "      <td>Type 2 CCS</td>\n",
       "      <td>Hatchback</td>\n",
       "      <td>B</td>\n",
       "      <td>4</td>\n",
       "      <td>32997</td>\n",
       "    </tr>\n",
       "  </tbody>\n",
       "</table>\n",
       "</div>"
      ],
      "text/plain": [
       "         Brand                          Model  AccelSec  TopSpeed_KmH  \\\n",
       "0       Tesla   Model 3 Long Range Dual Motor       4.6           233   \n",
       "1  Volkswagen                       ID.3 Pure      10.0           160   \n",
       "2    Polestar                               2       4.7           210   \n",
       "3         BMW                            iX3        6.8           180   \n",
       "4       Honda                              e        9.5           145   \n",
       "\n",
       "   Range_Km  Efficiency_WhKm FastCharge_KmH RapidCharge PowerTrain  \\\n",
       "0       450              161            940         Yes        AWD   \n",
       "1       270              167            250         Yes        RWD   \n",
       "2       400              181            620         Yes        AWD   \n",
       "3       360              206            560         Yes        RWD   \n",
       "4       170              168            190         Yes        RWD   \n",
       "\n",
       "     PlugType  BodyStyle Segment  Seats  PriceEuro  \n",
       "0  Type 2 CCS      Sedan       D      5      55480  \n",
       "1  Type 2 CCS  Hatchback       C      5      30000  \n",
       "2  Type 2 CCS   Liftback       D      5      56440  \n",
       "3  Type 2 CCS        SUV       D      5      68040  \n",
       "4  Type 2 CCS  Hatchback       B      4      32997  "
      ]
     },
     "execution_count": 28,
     "metadata": {},
     "output_type": "execute_result"
    }
   ],
   "source": [
    "df7 = pd.read_csv(\"C:\\\\Users\\\\sp125\\\\OneDrive\\\\Desktop\\\\EV2__SHREYA_FINAL\\\\Electric Car.csv\")\n",
    "df7.head()"
   ]
  },
  {
   "cell_type": "code",
   "execution_count": 57,
   "metadata": {},
   "outputs": [
    {
     "data": {
      "image/png": "[encoded data removed]",
      "text/plain": [
       "<Figure size 1000x600 with 1 Axes>"
      ]
     },
     "metadata": {},
     "output_type": "display_data"
    }
   ],
   "source": [
    "plt.figure(figsize=(10, 6))\n",
    "plt.scatter(df7[\"Range_Km\"], df7[\"Efficiency_WhKm\"])\n",
    "plt.xlabel(\"Range (Km)\")\n",
    "plt.ylabel(\"Efficiency (Wh/Km)\")\n",
    "plt.title(\"Relationship Between Range and Efficiency for Electric Cars\")\n",
    "plt.show()\n"
   ]
  },
  {
   "cell_type": "code",
   "execution_count": 29,
   "metadata": {},
   "outputs": [
    {
     "data": {
      "text/plain": [
       "0"
      ]
     },
     "execution_count": 29,
     "metadata": {},
     "output_type": "execute_result"
    }
   ],
   "source": [
    "df7.isna().sum().sum()"
   ]
  },
  {
   "cell_type": "code",
   "execution_count": 30,
   "metadata": {},
   "outputs": [
    {
     "name": "stdout",
     "output_type": "stream",
     "text": [
      "<class 'pandas.core.frame.DataFrame'>\n",
      "RangeIndex: 103 entries, 0 to 102\n",
      "Data columns (total 14 columns):\n",
      " #   Column           Non-Null Count  Dtype  \n",
      "---  ------           --------------  -----  \n",
      " 0   Brand            103 non-null    object \n",
      " 1   Model            103 non-null    object \n",
      " 2   AccelSec         103 non-null    float64\n",
      " 3   TopSpeed_KmH     103 non-null    int64  \n",
      " 4   Range_Km         103 non-null    int64  \n",
      " 5   Efficiency_WhKm  103 non-null    int64  \n",
      " 6   FastCharge_KmH   103 non-null    object \n",
      " 7   RapidCharge      103 non-null    object \n",
      " 8   PowerTrain       103 non-null    object \n",
      " 9   PlugType         103 non-null    object \n",
      " 10  BodyStyle        103 non-null    object \n",
      " 11  Segment          103 non-null    object \n",
      " 12  Seats            103 non-null    int64  \n",
      " 13  PriceEuro        103 non-null    int64  \n",
      "dtypes: float64(1), int64(5), object(8)\n",
      "memory usage: 11.4+ KB\n"
     ]
    }
   ],
   "source": [
    "df7.info()"
   ]
  },
  {
   "cell_type": "code",
   "execution_count": 31,
   "metadata": {},
   "outputs": [],
   "source": [
    "df7 = df7[df7.FastCharge_KmH != '-']\n",
    "df7.FastCharge_KmH = df7.FastCharge_KmH.astype(int)"
   ]
  },
  {
   "cell_type": "code",
   "execution_count": 32,
   "metadata": {},
   "outputs": [
    {
     "data": {
      "text/html": [
       "<div>\n",
       "<style scoped>\n",
       "    .dataframe tbody tr th:only-of-type {\n",
       "        vertical-align: middle;\n",
       "    }\n",
       "\n",
       "    .dataframe tbody tr th {\n",
       "        vertical-align: top;\n",
       "    }\n",
       "\n",
       "    .dataframe thead th {\n",
       "        text-align: right;\n",
       "    }\n",
       "</style>\n",
       "<table border=\"1\" class=\"dataframe\">\n",
       "  <thead>\n",
       "    <tr style=\"text-align: right;\">\n",
       "      <th></th>\n",
       "      <th>AccelSec</th>\n",
       "      <th>TopSpeed_KmH</th>\n",
       "      <th>Range_Km</th>\n",
       "      <th>Efficiency_WhKm</th>\n",
       "      <th>FastCharge_KmH</th>\n",
       "      <th>Seats</th>\n",
       "      <th>PriceEuro</th>\n",
       "    </tr>\n",
       "  </thead>\n",
       "  <tbody>\n",
       "    <tr>\n",
       "      <th>0</th>\n",
       "      <td>4.6</td>\n",
       "      <td>233</td>\n",
       "      <td>450</td>\n",
       "      <td>161</td>\n",
       "      <td>940</td>\n",
       "      <td>5</td>\n",
       "      <td>55480</td>\n",
       "    </tr>\n",
       "    <tr>\n",
       "      <th>1</th>\n",
       "      <td>10.0</td>\n",
       "      <td>160</td>\n",
       "      <td>270</td>\n",
       "      <td>167</td>\n",
       "      <td>250</td>\n",
       "      <td>5</td>\n",
       "      <td>30000</td>\n",
       "    </tr>\n",
       "    <tr>\n",
       "      <th>2</th>\n",
       "      <td>4.7</td>\n",
       "      <td>210</td>\n",
       "      <td>400</td>\n",
       "      <td>181</td>\n",
       "      <td>620</td>\n",
       "      <td>5</td>\n",
       "      <td>56440</td>\n",
       "    </tr>\n",
       "    <tr>\n",
       "      <th>3</th>\n",
       "      <td>6.8</td>\n",
       "      <td>180</td>\n",
       "      <td>360</td>\n",
       "      <td>206</td>\n",
       "      <td>560</td>\n",
       "      <td>5</td>\n",
       "      <td>68040</td>\n",
       "    </tr>\n",
       "    <tr>\n",
       "      <th>4</th>\n",
       "      <td>9.5</td>\n",
       "      <td>145</td>\n",
       "      <td>170</td>\n",
       "      <td>168</td>\n",
       "      <td>190</td>\n",
       "      <td>4</td>\n",
       "      <td>32997</td>\n",
       "    </tr>\n",
       "  </tbody>\n",
       "</table>\n",
       "</div>"
      ],
      "text/plain": [
       "   AccelSec  TopSpeed_KmH  Range_Km  Efficiency_WhKm  FastCharge_KmH  Seats  \\\n",
       "0       4.6           233       450              161             940      5   \n",
       "1      10.0           160       270              167             250      5   \n",
       "2       4.7           210       400              181             620      5   \n",
       "3       6.8           180       360              206             560      5   \n",
       "4       9.5           145       170              168             190      4   \n",
       "\n",
       "   PriceEuro  \n",
       "0      55480  \n",
       "1      30000  \n",
       "2      56440  \n",
       "3      68040  \n",
       "4      32997  "
      ]
     },
     "execution_count": 32,
     "metadata": {},
     "output_type": "execute_result"
    }
   ],
   "source": [
    "df7_1 = df7.select_dtypes(['float', 'int'])\n",
    "df7_1.head()"
   ]
  },
  {
   "cell_type": "code",
   "execution_count": 33,
   "metadata": {},
   "outputs": [
    {
     "data": {
      "text/html": [
       "<pre style=\"white-space:pre;overflow-x:auto;line-height:normal;font-family:Menlo,'DejaVu Sans Mono',consolas,'Courier New',monospace\"><span style=\"font-weight: bold\">(</span><span style=\"color: #008080; text-decoration-color: #008080; font-weight: bold\">78</span>, <span style=\"color: #008080; text-decoration-color: #008080; font-weight: bold\">6</span><span style=\"font-weight: bold\">)</span>\n",
       "</pre>\n"
      ],
      "text/plain": [
       "\u001b[1m(\u001b[0m\u001b[1;36m78\u001b[0m, \u001b[1;36m6\u001b[0m\u001b[1m)\u001b[0m\n"
      ]
     },
     "metadata": {},
     "output_type": "display_data"
    },
    {
     "data": {
      "text/html": [
       "<pre style=\"white-space:pre;overflow-x:auto;line-height:normal;font-family:Menlo,'DejaVu Sans Mono',consolas,'Courier New',monospace\"><span style=\"font-weight: bold\">(</span><span style=\"color: #008080; text-decoration-color: #008080; font-weight: bold\">20</span>, <span style=\"color: #008080; text-decoration-color: #008080; font-weight: bold\">6</span><span style=\"font-weight: bold\">)</span>\n",
       "</pre>\n"
      ],
      "text/plain": [
       "\u001b[1m(\u001b[0m\u001b[1;36m20\u001b[0m, \u001b[1;36m6\u001b[0m\u001b[1m)\u001b[0m\n"
      ]
     },
     "metadata": {},
     "output_type": "display_data"
    },
    {
     "data": {
      "text/html": [
       "<pre style=\"white-space:pre;overflow-x:auto;line-height:normal;font-family:Menlo,'DejaVu Sans Mono',consolas,'Courier New',monospace\"><span style=\"font-weight: bold\">(</span><span style=\"color: #008080; text-decoration-color: #008080; font-weight: bold\">78</span>, <span style=\"color: #008080; text-decoration-color: #008080; font-weight: bold\">1</span><span style=\"font-weight: bold\">)</span>\n",
       "</pre>\n"
      ],
      "text/plain": [
       "\u001b[1m(\u001b[0m\u001b[1;36m78\u001b[0m, \u001b[1;36m1\u001b[0m\u001b[1m)\u001b[0m\n"
      ]
     },
     "metadata": {},
     "output_type": "display_data"
    },
    {
     "data": {
      "text/html": [
       "<pre style=\"white-space:pre;overflow-x:auto;line-height:normal;font-family:Menlo,'DejaVu Sans Mono',consolas,'Courier New',monospace\"><span style=\"font-weight: bold\">(</span><span style=\"color: #008080; text-decoration-color: #008080; font-weight: bold\">20</span>, <span style=\"color: #008080; text-decoration-color: #008080; font-weight: bold\">1</span><span style=\"font-weight: bold\">)</span>\n",
       "</pre>\n"
      ],
      "text/plain": [
       "\u001b[1m(\u001b[0m\u001b[1;36m20\u001b[0m, \u001b[1;36m1\u001b[0m\u001b[1m)\u001b[0m\n"
      ]
     },
     "metadata": {},
     "output_type": "display_data"
    }
   ],
   "source": [
    "scaler_x = StandardScaler()\n",
    "scaler_y = StandardScaler()\n",
    "\n",
    "x, y = scaler_x.fit_transform(df7_1.drop('PriceEuro', axis=1)), scaler_y.fit_transform(df7_1.PriceEuro.values.reshape(-1, 1))\n",
    "x_train, x_test, y_train, y_test = train_test_split(x, y, test_size=0.2, random_state=0)\n",
    "\n",
    "for i in [x_train, x_test, y_train, y_test]:\n",
    "    print(i.shape)"
   ]
  },
  {
   "cell_type": "code",
   "execution_count": 34,
   "metadata": {},
   "outputs": [
    {
     "data": {
      "text/plain": [
       "0.7714756606431553"
      ]
     },
     "execution_count": 34,
     "metadata": {},
     "output_type": "execute_result"
    }
   ],
   "source": [
    "Lr = LinearRegression()\n",
    "Lr.fit(x_train, y_train)\n",
    "Lr.score(x_train, y_train)"
   ]
  },
  {
   "cell_type": "code",
   "execution_count": 35,
   "metadata": {},
   "outputs": [
    {
     "data": {
      "text/plain": [
       "0.4627381577569435"
      ]
     },
     "execution_count": 35,
     "metadata": {},
     "output_type": "execute_result"
    }
   ],
   "source": [
    "Lr.score(x_test, y_test)"
   ]
  },
  {
   "cell_type": "code",
   "execution_count": 36,
   "metadata": {},
   "outputs": [
    {
     "data": {
      "text/plain": [
       "0.9998444885627737"
      ]
     },
     "execution_count": 36,
     "metadata": {},
     "output_type": "execute_result"
    }
   ],
   "source": [
    "Dt = DecisionTreeRegressor()\n",
    "Dt.fit(x_train, y_train)\n",
    "Dt.score(x_train, y_train)"
   ]
  },
  {
   "cell_type": "code",
   "execution_count": 37,
   "metadata": {},
   "outputs": [
    {
     "data": {
      "text/plain": [
       "0.7209725402972911"
      ]
     },
     "execution_count": 37,
     "metadata": {},
     "output_type": "execute_result"
    }
   ],
   "source": [
    "Dt.score(x_test, y_test)"
   ]
  },
  {
   "cell_type": "code",
   "execution_count": 38,
   "metadata": {},
   "outputs": [
    {
     "data": {
      "text/html": [
       "<pre style=\"white-space:pre;overflow-x:auto;line-height:normal;font-family:Menlo,'DejaVu Sans Mono',consolas,'Courier New',monospace\"><span style=\"color: #008080; text-decoration-color: #008080; font-weight: bold\">0.8138103675047363</span>\n",
       "</pre>\n"
      ],
      "text/plain": [
       "\u001b[1;36m0.8138103675047363\u001b[0m\n"
      ]
     },
     "metadata": {},
     "output_type": "display_data"
    },
    {
     "data": {
      "text/html": [
       "<pre style=\"white-space:pre;overflow-x:auto;line-height:normal;font-family:Menlo,'DejaVu Sans Mono',consolas,'Courier New',monospace\"><span style=\"color: #008080; text-decoration-color: #008080; font-weight: bold\">0.7462464045069446</span>\n",
       "</pre>\n"
      ],
      "text/plain": [
       "\u001b[1;36m0.7462464045069446\u001b[0m\n"
      ]
     },
     "metadata": {},
     "output_type": "display_data"
    }
   ],
   "source": [
    "svr = SVR()\n",
    "svr.fit(x_train, y_train)\n",
    "print(svr.score(x_train, y_train))\n",
    "print(svr.score(x_test, y_test))"
   ]
  },
  {
   "cell_type": "code",
   "execution_count": 39,
   "metadata": {},
   "outputs": [
    {
     "data": {
      "text/html": [
       "<pre style=\"white-space:pre;overflow-x:auto;line-height:normal;font-family:Menlo,'DejaVu Sans Mono',consolas,'Courier New',monospace\"><span style=\"color: #008080; text-decoration-color: #008080; font-weight: bold\">0.9578217766644619</span>\n",
       "</pre>\n"
      ],
      "text/plain": [
       "\u001b[1;36m0.9578217766644619\u001b[0m\n"
      ]
     },
     "metadata": {},
     "output_type": "display_data"
    },
    {
     "data": {
      "text/html": [
       "<pre style=\"white-space:pre;overflow-x:auto;line-height:normal;font-family:Menlo,'DejaVu Sans Mono',consolas,'Courier New',monospace\"><span style=\"color: #008080; text-decoration-color: #008080; font-weight: bold\">0.6603809367262166</span>\n",
       "</pre>\n"
      ],
      "text/plain": [
       "\u001b[1;36m0.6603809367262166\u001b[0m\n"
      ]
     },
     "metadata": {},
     "output_type": "display_data"
    }
   ],
   "source": [
    "rf = RandomForestRegressor()\n",
    "rf.fit(x_train, y_train)\n",
    "print(rf.score(x_train, y_train))\n",
    "print(rf.score(x_test, y_test))"
   ]
  },
  {
   "cell_type": "code",
   "execution_count": 40,
   "metadata": {},
   "outputs": [],
   "source": [
    "model = Sequential([\n",
    "    Dense(4, activation='relu'),\n",
    "    Dropout(0.2),\n",
    "    Dense(2, activation='relu'),\n",
    "    Dropout(0.2),\n",
    "    Dense(1, activation='sigmoid')\n",
    "])\n",
    "\n",
    "model.compile(loss='mse', optimizer='adam', metrics=['accuracy'])"
   ]
  },
  {
   "cell_type": "code",
   "execution_count": 41,
   "metadata": {},
   "outputs": [
    {
     "name": "stdout",
     "output_type": "stream",
     "text": [
      "Epoch 1/10\n",
      "\u001b[1m3/3\u001b[0m \u001b[32m━━━━━━━━━━━━━━━━━━━━\u001b[0m\u001b[37m\u001b[0m \u001b[1m1s\u001b[0m 8ms/step - accuracy: 0.0000e+00 - loss: 1.3587\n",
      "Epoch 2/10\n",
      "\u001b[1m3/3\u001b[0m \u001b[32m━━━━━━━━━━━━━━━━━━━━\u001b[0m\u001b[37m\u001b[0m \u001b[1m0s\u001b[0m 504us/step - accuracy: 0.0000e+00 - loss: 1.4798\n",
      "Epoch 3/10\n",
      "\u001b[1m3/3\u001b[0m \u001b[32m━━━━━━━━━━━━━━━━━━━━\u001b[0m\u001b[37m\u001b[0m \u001b[1m0s\u001b[0m 0s/step - accuracy: 0.0000e+00 - loss: 1.4986  \n",
      "Epoch 4/10\n",
      "\u001b[1m3/3\u001b[0m \u001b[32m━━━━━━━━━━━━━━━━━━━━\u001b[0m\u001b[37m\u001b[0m \u001b[1m0s\u001b[0m 3ms/step - accuracy: 0.0000e+00 - loss: 1.2831 \n",
      "Epoch 5/10\n",
      "\u001b[1m3/3\u001b[0m \u001b[32m━━━━━━━━━━━━━━━━━━━━\u001b[0m\u001b[37m\u001b[0m \u001b[1m0s\u001b[0m 8ms/step - accuracy: 0.0000e+00 - loss: 1.2389 \n",
      "Epoch 6/10\n",
      "\u001b[1m3/3\u001b[0m \u001b[32m━━━━━━━━━━━━━━━━━━━━\u001b[0m\u001b[37m\u001b[0m \u001b[1m0s\u001b[0m 0s/step - accuracy: 0.0000e+00 - loss: 1.3889  \n",
      "Epoch 7/10\n",
      "\u001b[1m3/3\u001b[0m \u001b[32m━━━━━━━━━━━━━━━━━━━━\u001b[0m\u001b[37m\u001b[0m \u001b[1m0s\u001b[0m 0s/step - accuracy: 0.0000e+00 - loss: 1.2340  \n",
      "Epoch 8/10\n",
      "\u001b[1m3/3\u001b[0m \u001b[32m━━━━━━━━━━━━━━━━━━━━\u001b[0m\u001b[37m\u001b[0m \u001b[1m0s\u001b[0m 0s/step - accuracy: 0.0000e+00 - loss: 1.4813  \n",
      "Epoch 9/10\n",
      "\u001b[1m3/3\u001b[0m \u001b[32m━━━━━━━━━━━━━━━━━━━━\u001b[0m\u001b[37m\u001b[0m \u001b[1m0s\u001b[0m 0s/step - accuracy: 0.0000e+00 - loss: 1.3095  \n",
      "Epoch 10/10\n",
      "\u001b[1m3/3\u001b[0m \u001b[32m━━━━━━━━━━━━━━━━━━━━\u001b[0m\u001b[37m\u001b[0m \u001b[1m0s\u001b[0m 0s/step - accuracy: 0.0000e+00 - loss: 1.2186  \n",
      "\u001b[1m1/1\u001b[0m \u001b[32m━━━━━━━━━━━━━━━━━━━━\u001b[0m\u001b[37m\u001b[0m \u001b[1m0s\u001b[0m 120ms/step - accuracy: 0.0000e+00 - loss: 1.1006\n"
     ]
    },
    {
     "data": {
      "text/plain": [
       "[1.100577712059021, 0.0]"
      ]
     },
     "execution_count": 41,
     "metadata": {},
     "output_type": "execute_result"
    }
   ],
   "source": [
    "model.fit(x_train, y_train, epochs=10)\n",
    "model.evaluate(x_test, y_test)"
   ]
  },
  {
   "cell_type": "markdown",
   "metadata": {},
   "source": [
    "> SVR gives very good score"
   ]
  },
  {
   "cell_type": "code",
   "execution_count": 42,
   "metadata": {},
   "outputs": [
    {
     "data": {
      "text/plain": [
       "Index(['AccelSec', 'TopSpeed_KmH', 'Range_Km', 'Efficiency_WhKm',\n",
       "       'FastCharge_KmH', 'Seats', 'PriceEuro'],\n",
       "      dtype='object')"
      ]
     },
     "execution_count": 42,
     "metadata": {},
     "output_type": "execute_result"
    }
   ],
   "source": [
    "df7_1.columns"
   ]
  },
  {
   "cell_type": "markdown",
   "metadata": {},
   "source": [
    "## Box Plot of Fast Charging Speed for Electric Cars:"
   ]
  },
  {
   "cell_type": "code",
   "execution_count": 56,
   "metadata": {},
   "outputs": [
    {
     "data": {
      "image/png": "[encoded data removed]",
      "text/plain": [
       "<Figure size 800x600 with 1 Axes>"
      ]
     },
     "metadata": {},
     "output_type": "display_data"
    }
   ],
   "source": [
    "plt.figure(figsize=(8, 6))\n",
    "sns.boxplot(\n",
    "    x=\"FastCharge_KmH\",\n",
    "    showmeans=True,  # Display mean markers\n",
    "    data=df7\n",
    ")\n",
    "plt.xlabel(\"Fast Charging Speed (Km/h)\")\n",
    "plt.ylabel(\"Frequency\")\n",
    "plt.title(\"Distribution of Fast Charging Speeds for Electric Cars\")\n",
    "plt.show()\n"
   ]
  },
  {
   "cell_type": "markdown",
   "metadata": {},
   "source": [
    "## Time Series Plot of Selling Price vs. Year (for Non-Electric Cars):"
   ]
  },
  {
   "cell_type": "code",
   "execution_count": 55,
   "metadata": {},
   "outputs": [
    {
     "data": {
      "image/png": "[encoded data removed]",
      "text/plain": [
       "<Figure size 1000x600 with 1 Axes>"
      ]
     },
     "metadata": {},
     "output_type": "display_data"
    }
   ],
   "source": [
    "plt.figure(figsize=(10, 6))\n",
    "plt.plot(df6_1[\"year\"], df6_1[\"selling_price\"])\n",
    "plt.xlabel(\"Year\")\n",
    "plt.ylabel(\"Selling Price\")\n",
    "plt.title(\"Selling Price of Non-Electric Cars Over Time\")\n",
    "plt.show()\n"
   ]
  },
  {
   "cell_type": "markdown",
   "metadata": {},
   "source": [
    "## Car Price prediction model"
   ]
  },
  {
   "cell_type": "code",
   "execution_count": 43,
   "metadata": {},
   "outputs": [
    {
     "data": {
      "text/html": [
       "<pre style=\"white-space:pre;overflow-x:auto;line-height:normal;font-family:Menlo,'DejaVu Sans Mono',consolas,'Courier New',monospace\">Predicted Price: <span style=\"color: #008080; text-decoration-color: #008080; font-weight: bold\">4969407.289995525</span>\n",
       "</pre>\n"
      ],
      "text/plain": [
       "Predicted Price: \u001b[1;36m4969407.289995525\u001b[0m\n"
      ]
     },
     "metadata": {},
     "output_type": "display_data"
    }
   ],
   "source": [
    "import pickle\n",
    "\n",
    "# Define absolute paths to your pickle files\n",
    "car_model_path = \"C:\\\\Users\\\\sp125\\\\OneDrive\\\\Desktop\\\\EV2__SHREYA_FINAL\\\\car_model.pkl\"\n",
    "scaler_x_path = \"C:\\\\Users\\\\sp125\\\\OneDrive\\\\Desktop\\\\EV2__SHREYA_FINAL\\\\scaler_x.pkl\"\n",
    "scaler_y_path = \"C:\\\\Users\\\\sp125\\\\OneDrive\\\\Desktop\\\\EV2__SHREYA_FINAL\\\\scaler_y.pkl\"\n",
    "\n",
    "# Load the model and scalers\n",
    "try:\n",
    "  with open(car_model_path, 'rb') as f:\n",
    "    car_model = pickle.load(f)\n",
    "\n",
    "  with open(scaler_x_path, 'rb') as f:\n",
    "    scaler_x = pickle.load(f)\n",
    "\n",
    "  with open(scaler_y_path, 'rb') as f:\n",
    "    scaler_y = pickle.load(f)\n",
    "\n",
    "  # Rest of your code using car_model, scaler_x, and scaler_y\n",
    "except FileNotFoundError as e:\n",
    "  print(f\"Error: Files not found. Please check the paths. ({e})\")\n",
    "\n",
    "def car_price(AccelSec, TopSpeed_KmH, Range_Km, \n",
    "              Efficiency_WhKm, FastCharge_KmH, Seats):\n",
    "  \"\"\"This function gets AccelSec, TopSpeed_KmH, Range_Km, Efficiency_WhKm,\n",
    "  FastCharge_KmH and Seats of car. It returns price of car in rupees\"\"\"\n",
    "  x = scaler_x.transform([[AccelSec, TopSpeed_KmH, Range_Km, \n",
    "                            Efficiency_WhKm, FastCharge_KmH, Seats]])\n",
    "  y = car_model.predict(x)\n",
    "  y = scaler_y.inverse_transform(y.reshape(1, -1))\n",
    "  return y[0][0] * 88.8  # Assuming 88.8 represents a conversion factor\n",
    "\n",
    "# Example usage (assuming you have data for the car)\n",
    "car_data = [5, 200, 300, 150, 80, 5]  # Replace with your actual data\n",
    "predicted_price = car_price(*car_data)\n",
    "print(\"Predicted Price:\", predicted_price)\n"
   ]
  },
  {
   "cell_type": "code",
   "execution_count": 44,
   "metadata": {},
   "outputs": [
    {
     "data": {
      "text/html": [
       "<pre style=\"white-space:pre;overflow-x:auto;line-height:normal;font-family:Menlo,'DejaVu Sans Mono',consolas,'Courier New',monospace\"><span style=\"font-weight: bold\">[</span><span style=\"color: #008080; text-decoration-color: #008080; font-weight: bold\">4.6</span>, <span style=\"color: #008080; text-decoration-color: #008080; font-weight: bold\">233.0</span>, <span style=\"color: #008080; text-decoration-color: #008080; font-weight: bold\">450.0</span>, <span style=\"color: #008080; text-decoration-color: #008080; font-weight: bold\">161.0</span>, <span style=\"color: #008080; text-decoration-color: #008080; font-weight: bold\">940.0</span>, <span style=\"color: #008080; text-decoration-color: #008080; font-weight: bold\">5.0</span>, <span style=\"color: #008080; text-decoration-color: #008080; font-weight: bold\">55480.0</span><span style=\"font-weight: bold\">]</span>\n",
       "</pre>\n"
      ],
      "text/plain": [
       "\u001b[1m[\u001b[0m\u001b[1;36m4.6\u001b[0m, \u001b[1;36m233.0\u001b[0m, \u001b[1;36m450.0\u001b[0m, \u001b[1;36m161.0\u001b[0m, \u001b[1;36m940.0\u001b[0m, \u001b[1;36m5.0\u001b[0m, \u001b[1;36m55480.0\u001b[0m\u001b[1m]\u001b[0m\n"
      ]
     },
     "metadata": {},
     "output_type": "display_data"
    },
    {
     "data": {
      "text/html": [
       "<pre style=\"white-space:pre;overflow-x:auto;line-height:normal;font-family:Menlo,'DejaVu Sans Mono',consolas,'Courier New',monospace\">Price = €<span style=\"color: #008080; text-decoration-color: #008080; font-weight: bold\">57</span>,<span style=\"color: #008080; text-decoration-color: #008080; font-weight: bold\">004</span> and ₹<span style=\"color: #008080; text-decoration-color: #008080; font-weight: bold\">5</span>,<span style=\"color: #008080; text-decoration-color: #008080; font-weight: bold\">061</span>,<span style=\"color: #008080; text-decoration-color: #008080; font-weight: bold\">992</span>\n",
       "</pre>\n"
      ],
      "text/plain": [
       "Price = €\u001b[1;36m57\u001b[0m,\u001b[1;36m004\u001b[0m and ₹\u001b[1;36m5\u001b[0m,\u001b[1;36m061\u001b[0m,\u001b[1;36m992\u001b[0m\n"
      ]
     },
     "metadata": {},
     "output_type": "display_data"
    }
   ],
   "source": [
    "sample = df7_1.iloc[0].tolist() # sample data\n",
    "print(sample)\n",
    "price = car_price(*sample[:-1]) # we should get near 55480.0\n",
    "print(f'Price = €{round(price/88.8):,} and ₹{round(price):,}')"
   ]
  },
  {
   "cell_type": "code",
   "execution_count": 45,
   "metadata": {},
   "outputs": [
    {
     "data": {
      "text/html": [
       "<pre style=\"white-space:pre;overflow-x:auto;line-height:normal;font-family:Menlo,'DejaVu Sans Mono',consolas,'Courier New',monospace\"><span style=\"font-weight: bold\">[</span><span style=\"color: #008080; text-decoration-color: #008080; font-weight: bold\">10.0</span>, <span style=\"color: #008080; text-decoration-color: #008080; font-weight: bold\">160.0</span>, <span style=\"color: #008080; text-decoration-color: #008080; font-weight: bold\">270.0</span>, <span style=\"color: #008080; text-decoration-color: #008080; font-weight: bold\">167.0</span>, <span style=\"color: #008080; text-decoration-color: #008080; font-weight: bold\">250.0</span>, <span style=\"color: #008080; text-decoration-color: #008080; font-weight: bold\">5.0</span>, <span style=\"color: #008080; text-decoration-color: #008080; font-weight: bold\">30000.0</span><span style=\"font-weight: bold\">]</span>\n",
       "</pre>\n"
      ],
      "text/plain": [
       "\u001b[1m[\u001b[0m\u001b[1;36m10.0\u001b[0m, \u001b[1;36m160.0\u001b[0m, \u001b[1;36m270.0\u001b[0m, \u001b[1;36m167.0\u001b[0m, \u001b[1;36m250.0\u001b[0m, \u001b[1;36m5.0\u001b[0m, \u001b[1;36m30000.0\u001b[0m\u001b[1m]\u001b[0m\n"
      ]
     },
     "metadata": {},
     "output_type": "display_data"
    },
    {
     "data": {
      "text/html": [
       "<pre style=\"white-space:pre;overflow-x:auto;line-height:normal;font-family:Menlo,'DejaVu Sans Mono',consolas,'Courier New',monospace\">Price = €<span style=\"color: #008080; text-decoration-color: #008080; font-weight: bold\">32</span>,<span style=\"color: #008080; text-decoration-color: #008080; font-weight: bold\">642</span> and ₹<span style=\"color: #008080; text-decoration-color: #008080; font-weight: bold\">2</span>,<span style=\"color: #008080; text-decoration-color: #008080; font-weight: bold\">898</span>,<span style=\"color: #008080; text-decoration-color: #008080; font-weight: bold\">624</span>\n",
       "</pre>\n"
      ],
      "text/plain": [
       "Price = €\u001b[1;36m32\u001b[0m,\u001b[1;36m642\u001b[0m and ₹\u001b[1;36m2\u001b[0m,\u001b[1;36m898\u001b[0m,\u001b[1;36m624\u001b[0m\n"
      ]
     },
     "metadata": {},
     "output_type": "display_data"
    }
   ],
   "source": [
    "sample = df7_1.iloc[1].tolist() # sample data\n",
    "print(sample)\n",
    "price = car_price(*sample[:-1]) # we should get near 30000.0\n",
    "print(f'Price = €{round(price/88.8):,} and ₹{round(price):,}')"
   ]
  },
  {
   "cell_type": "code",
   "execution_count": 46,
   "metadata": {},
   "outputs": [
    {
     "data": {
      "image/png": "[encoded data removed]",
      "text/plain": [
       "<Figure size 640x480 with 2 Axes>"
      ]
     },
     "metadata": {},
     "output_type": "display_data"
    }
   ],
   "source": [
    "# Assuming you have numerical features for correlation analysis\n",
    "correlation_matrix = df7_1.iloc[:, :-1].corr()  # Exclude price column\n",
    "\n",
    "# Create heatmap to visualize correlations\n",
    "sns.heatmap(correlation_matrix, annot=True, cmap='coolwarm')\n",
    "plt.title('Correlation Heatmap of Car Features')\n",
    "plt.show()\n"
   ]
  },
  {
   "cell_type": "code",
   "execution_count": 49,
   "metadata": {},
   "outputs": [
    {
     "data": {
      "image/png": "[encoded data removed]",
      "text/plain": [
       "<Figure size 640x480 with 1 Axes>"
      ]
     },
     "metadata": {},
     "output_type": "display_data"
    }
   ],
   "source": [
    "# Perform PCA with desired number of components (e.g., 2)\n",
    "pca = PCA(n_components=2)\n",
    "principal_components = pca.fit_transform(df7_1)\n",
    "\n",
    "# Visualize data points in principal components space\n",
    "plt.scatter(principal_components[:, 0], principal_components[:, 1])\n",
    "plt.xlabel('Principal Component 1')\n",
    "plt.ylabel('Principal Component 2')\n",
    "plt.title('PCA Visualization of Car Data')\n",
    "plt.show()\n"
   ]
  }
 ],
 "metadata": {
  "kernelspec": {
   "display_name": "Python 3 (ipykernel)",
   "language": "python",
   "name": "python3"
  },
  "language_info": {
   "codemirror_mode": {
    "name": "ipython",
    "version": 3
   },
   "file_extension": ".py",
   "mimetype": "text/x-python",
   "name": "python",
   "nbconvert_exporter": "python",
   "pygments_lexer": "ipython3",
   "version": "3.11.8"
  }
 },
 "nbformat": 4,
 "nbformat_minor": 4
}
